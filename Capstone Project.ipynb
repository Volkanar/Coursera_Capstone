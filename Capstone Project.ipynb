{
    "cells": [
        {
            "cell_type": "markdown",
            "metadata": {
                "collapsed": true
            },
            "source": "## INTRODUCTION/BUSINESS PROBLEM"
        },
        {
            "cell_type": "markdown",
            "metadata": {},
            "source": "Two of most famous cities in the world are Toronto and New York. Both cities are very diverse, multicultural and are the financial capitals of their respective countries. I want to explore the similarity and dissimilarity of these cities about their touristic places. Tourism is an important activity for economy of countries and people usually like to visit developed countries. It is easy to explore and analyze cities with location data. Tourists like to visit different places and analysis of two cities will help them to make their choices easier and more efficient."
        },
        {
            "cell_type": "markdown",
            "metadata": {},
            "source": "## DATA DESCRIPTION"
        },
        {
            "cell_type": "markdown",
            "metadata": {},
            "source": "I will use Foursquare API and get location data to explore the neighborhoods of two cities. This data gives information about different places such as coffee shops, restaurants, hotels, museums and many more around each neighborhood. I selected Scarborough from Toronto and Brooklyn from New York to analyze their neighborhoods. I will use k-means clustering technique to segment the neighborhoods regarding their places. This will help to understand their similarity and dissimilarity."
        },
        {
            "cell_type": "code",
            "execution_count": null,
            "metadata": {},
            "outputs": [],
            "source": ""
        }
    ],
    "metadata": {
        "kernelspec": {
            "display_name": "Python 3.6",
            "language": "python",
            "name": "python3"
        },
        "language_info": {
            "codemirror_mode": {
                "name": "ipython",
                "version": 3
            },
            "file_extension": ".py",
            "mimetype": "text/x-python",
            "name": "python",
            "nbconvert_exporter": "python",
            "pygments_lexer": "ipython3",
            "version": "3.6.9"
        }
    },
    "nbformat": 4,
    "nbformat_minor": 1
}